{
  "nbformat": 4,
  "nbformat_minor": 0,
  "metadata": {
    "colab": {
      "name": "Artificial Neural Network.ipynb",
      "provenance": [],
      "collapsed_sections": [],
      "authorship_tag": "ABX9TyMOYKl3L0xZFDwP6CNIrsvN",
      "include_colab_link": true
    },
    "kernelspec": {
      "name": "python3",
      "display_name": "Python 3"
    },
    "language_info": {
      "name": "python"
    }
  },
  "cells": [
    {
      "cell_type": "markdown",
      "metadata": {
        "id": "view-in-github",
        "colab_type": "text"
      },
      "source": [
        "<a href=\"https://colab.research.google.com/github/prat8897/Probability-Theory-and-Pattern-Recognition/blob/main/Artificial_Neural_Network.ipynb\" target=\"_parent\"><img src=\"https://colab.research.google.com/assets/colab-badge.svg\" alt=\"Open In Colab\"/></a>"
      ]
    },
    {
      "cell_type": "markdown",
      "source": [
        "# Artificial Neural Network\n",
        "\n",
        "## Step 1\n",
        "Set all the weights and threshold levels of the network to random numbers uniformly distributed inside a small range. The weight initialisation is done on a neuron-by-neuron basis. "
      ],
      "metadata": {
        "id": "JnFsEPVb-UnA"
      }
    },
    {
      "cell_type": "code",
      "source": [
        "#Weight initialisation\n",
        "import numpy as np\n",
        "W1 = 2 * np.random.random((2, 4)) - 1\n",
        "W2 = 2 * np.random.random((4, 1)) - 1"
      ],
      "metadata": {
        "id": "niReUKB_EvpB"
      },
      "execution_count": 4,
      "outputs": []
    },
    {
      "cell_type": "markdown",
      "source": [
        "## Step 2\n",
        "\n",
        "Activate the back propogation neural network by applying inputs and desired outputs.\n",
        "\n",
        "a) Calculate the actual outputs of the neurons in the hidden layer: \n",
        "\n",
        "$$ y_{j}(p) = sigmoid \\left ( \\sum_{i=1}^{n} x_{i}(p) . w_{ij}(p) - θ_{j} \\right )$$\n",
        "\n",
        "where n is the number of inputs of neuron j in the hidden layer, and $sigmoid$ is the sigmoid activation function. \n",
        "\n",
        "b) Calculate the actual outputs of the neurons in the output layer: \n",
        "\n",
        "$$ y_{k}(p) = sigmoid \\left ( \\sum_{j=1}^{m} x_{i}(p) . w_{jk}(p) - θ_{k} \\right )$$\n",
        "\n",
        "where m is the number of inputs of neuron k in the output layer."
      ],
      "metadata": {
        "id": "FP9M67uxEuvp"
      }
    },
    {
      "cell_type": "code",
      "source": [
        "X = np.array([ [0, 0],[0, 1],[1, 0],[1, 1] ])\n",
        "y = np.array([[0, 1, 1, 0]]).T\n",
        "\n",
        "bias = 0\n",
        "alpha = 1\n",
        "epochs = 5000\n",
        "\n",
        "def sigmoid(x):\n",
        "  return 1/(1 + np.exp(-(x)))\n",
        "\n",
        "for j in range(epochs):\n",
        "  #Activation of hidden layer\n",
        "  y1 = sigmoid(np.dot(X, W1)) - bias\n",
        "  #Activation of output layer\n",
        "  y2 = sigmoid(np.dot(y1, W2)) - bias\n",
        "\n",
        "  #Calculate error\n",
        "  y2_delta = alpha * (y - y2) * (y2*(1-y2))\n",
        "  y1_delta = alpha * y2_delta.dot(W2.T) * (y1 * (1-y1))\n",
        "\n",
        "  #Update weights\n",
        "  W2 += y1.T.dot(y2_delta)\n",
        "  W1 += X.T.dot(y1_delta)\n",
        "\n",
        "print('y2 = ', y2)\n",
        "print('error', y2_delta)\n",
        "print('Weight 1 = ', W1)\n",
        "print('Weight 2 = ', W2)\n"
      ],
      "metadata": {
        "colab": {
          "base_uri": "https://localhost:8080/"
        },
        "id": "ZZPfNrSlIjgy",
        "outputId": "4f612777-70e8-4aa2-83fd-cc2bc0add429"
      },
      "execution_count": 5,
      "outputs": [
        {
          "output_type": "stream",
          "name": "stdout",
          "text": [
            "y2 =  [[0.0350363 ]\n",
            " [0.96950391]\n",
            " [0.96981193]\n",
            " [0.02193784]]\n",
            "error [[-0.00118453]\n",
            " [ 0.00090165]\n",
            " [ 0.00088381]\n",
            " [-0.00047071]]\n",
            "Weight 1 =  [[-5.38444338  1.98213774 -3.2188844  -6.90805609]\n",
            " [-5.30307705 -3.4190954   6.23067587  3.56249252]]\n",
            "Weight 2 =  [[-14.49920471]\n",
            " [  4.23865033]\n",
            " [ -5.15156209]\n",
            " [  8.78040588]]\n"
          ]
        }
      ]
    }
  ]
}