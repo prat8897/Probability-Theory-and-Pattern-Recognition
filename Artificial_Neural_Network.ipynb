{
  "nbformat": 4,
  "nbformat_minor": 0,
  "metadata": {
    "colab": {
      "name": "Artificial Neural Network.ipynb",
      "provenance": [],
      "collapsed_sections": [],
      "authorship_tag": "ABX9TyOknP5Avr7viz4AjXikexga",
      "include_colab_link": true
    },
    "kernelspec": {
      "name": "python3",
      "display_name": "Python 3"
    },
    "language_info": {
      "name": "python"
    }
  },
  "cells": [
    {
      "cell_type": "markdown",
      "metadata": {
        "id": "view-in-github",
        "colab_type": "text"
      },
      "source": [
        "<a href=\"https://colab.research.google.com/github/prat8897/Probability-Theory-and-Pattern-Recognition/blob/main/Artificial_Neural_Network.ipynb\" target=\"_parent\"><img src=\"https://colab.research.google.com/assets/colab-badge.svg\" alt=\"Open In Colab\"/></a>"
      ]
    },
    {
      "cell_type": "markdown",
      "source": [
        "# Artificial Neural Network\n",
        "\n",
        "## Step 1\n",
        "Set all the weights and threshold levels of the network to random numbers uniformly distributed inside a small range. The weight initialisation is done on a neuron-by-neuron basis. "
      ],
      "metadata": {
        "id": "JnFsEPVb-UnA"
      }
    },
    {
      "cell_type": "code",
      "source": [
        "#Weight initialisation\n",
        "import numpy as np\n",
        "W1 = 2 * np.random.random((2, 4)) - 1\n",
        "W2 = 2 * np.random.random((4, 1)) - 1"
      ],
      "metadata": {
        "id": "niReUKB_EvpB"
      },
      "execution_count": 1,
      "outputs": []
    },
    {
      "cell_type": "markdown",
      "source": [
        "## Step 2\n",
        "\n",
        "Activate the back propogation neural network by applying inputs and desired outputs.\n",
        "\n",
        "a) Calculate the actual outputs of the neurons in the hidden layer: \n",
        "\n",
        "$$ y_{j}(p) = sigmoid \\left ( \\sum_{i=1}^{n} x_{i}(p) . w_{ij}(p) - θ_{j} \\right )$$\n",
        "\n",
        "where n is the number of inputs of neuron j in the hidden layer, and $sigmoid$ is the sigmoid activation function. \n",
        "\n",
        "b) Calculate the actual outputs of the neurons in the output layer: \n",
        "\n",
        "$$ y_{k}(p) = sigmoid \\left ( \\sum_{j=1}^{m} x_{i}(p) . w_{jk}(p) - θ_{k} \\right )$$\n",
        "\n",
        "where $m$ is the number of inputs of neuron $k$ in the output layer."
      ],
      "metadata": {
        "id": "FP9M67uxEuvp"
      }
    },
    {
      "cell_type": "code",
      "source": [
        "X = np.array([ [0, 0],[0, 1],[1, 0],[1, 1] ])\n",
        "y = np.array([[0, 1, 1, 0]]).T #learn xor\n",
        "\n",
        "bias1 = 0\n",
        "bias2 = 0\n",
        "alpha = 1\n",
        "epochs = 5000\n",
        "\n",
        "def sigmoid(x):\n",
        "  return 1/(1 + np.exp(-(x)))\n",
        "\n",
        "for j in range(epochs):\n",
        "  #Activation of hidden layer\n",
        "  y1 = sigmoid(np.dot(X, W1)) - bias1\n",
        "  #Activation of output layer\n",
        "  y2 = sigmoid(np.dot(y1, W2)) - bias2\n",
        "\n",
        "  #Calculate error\n",
        "  y2_delta = alpha * (y - y2) * (y2 *(1-y2))\n",
        "  y1_delta = alpha * y2_delta.dot(W2.T) * (y1 * (1-y1))\n",
        "\n",
        "  #Update weights\n",
        "  W2 += y1.T.dot(y2_delta)\n",
        "  W1 += X.T.dot(y1_delta)\n",
        "\n",
        "print('y2 = ', y2)\n",
        "print('error', y2_delta)\n",
        "print('Weight 1 = ', W1)\n",
        "print('Weight 2 = ', W2)\n"
      ],
      "metadata": {
        "colab": {
          "base_uri": "https://localhost:8080/"
        },
        "id": "ZZPfNrSlIjgy",
        "outputId": "d4372490-d308-4e44-8a4a-f2364bceadde"
      },
      "execution_count": 2,
      "outputs": [
        {
          "output_type": "stream",
          "name": "stdout",
          "text": [
            "y2 =  [[0.04829052]\n",
            " [0.97038484]\n",
            " [0.9678683 ]\n",
            " [0.01410114]]\n",
            "error [[-0.00221936]\n",
            " [ 0.00085108]\n",
            " [ 0.00099927]\n",
            " [-0.00019604]]\n",
            "Weight 1 =  [[ 3.29242108 -2.8009457   5.36221241  7.76058755]\n",
            " [-5.65855252  3.57087975  5.07906031 -4.27640045]]\n",
            "Weight 2 =  [[  1.98223821]\n",
            " [-10.07397877]\n",
            " [ 13.52074092]\n",
            " [-11.3913228 ]]\n"
          ]
        }
      ]
    }
  ]
}