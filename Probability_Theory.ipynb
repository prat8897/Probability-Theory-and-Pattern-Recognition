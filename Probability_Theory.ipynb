{
  "cells": [
    {
      "cell_type": "markdown",
      "source": [
        "# Probability theory\n",
        "\n",
        "The probability of an event is simply the number of favourable outcomes divided by the total number of possible events. \n",
        "\n",
        "### Random Variable\n",
        "Let random variable be the variable that contains the information about the outcome of an event. e.g for a random variable $X$ , $p(X=x)$ denotes the probability that the outcome of $X$ is $x$. \n",
        "\n",
        "### Two Random Variables\n",
        "\n",
        "When there are two Random Variables, the following rules apply:\n",
        "\n",
        "Sum rule: $p(X) = \\sum_{Y} p(X, Y )$\n",
        "\n",
        "\n",
        "Product rule: $p(X, Y) = p(Y|X) p(X)$\n",
        "\n",
        "From which follows the Bayes Theorem:\n",
        "\n",
        "$p(Y |X) = \\frac{p(X|Y )p(Y)}{p(X)}$\n"
      ],
      "metadata": {
        "id": "neLKBy8mmXZo"
      }
    },
    {
      "cell_type": "code",
      "execution_count": null,
      "metadata": {
        "id": "ap0XpsqlmPVF"
      },
      "outputs": [],
      "source": [
        ""
      ]
    }
  ],
  "metadata": {
    "kernelspec": {
      "display_name": "Python 3",
      "language": "python",
      "name": "python3"
    },
    "language_info": {
      "codemirror_mode": {
        "name": "ipython",
        "version": 3
      },
      "file_extension": ".py",
      "mimetype": "text/x-python",
      "name": "python",
      "nbconvert_exporter": "python",
      "pygments_lexer": "ipython3",
      "version": "3.8.6"
    },
    "colab": {
      "name": "Probability_Theory.ipynb",
      "provenance": []
    }
  },
  "nbformat": 4,
  "nbformat_minor": 0
}