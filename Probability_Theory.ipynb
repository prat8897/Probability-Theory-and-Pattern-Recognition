{
  "cells": [
    {
      "cell_type": "markdown",
      "source": [
        "# Fundamentals of Probability\n",
        "\n",
        "1. Random Experiment / Trial\n",
        "2. Sample Space\n",
        "3. Events\n",
        "4. Types of Events:\n",
        "  - Equally likely events\n",
        "  - Exhaustive events\n",
        "  - Mutually exclusive events\n",
        "  - Dependent or Independent events\n",
        "\n",
        "5. Definition of probability\n",
        "6. Axioms of probability\n",
        "7. Theorems of probability\n",
        "  - Complementary Rank\n",
        "  - Addition Law\n",
        "  - Multiplication Law (Conditional Probability)\n",
        "  - Bayes Theorem\n",
        "\n",
        "\n"
      ],
      "metadata": {
        "id": "neLKBy8mmXZo"
      }
    },
    {
      "cell_type": "markdown",
      "source": [
        "1. Random Experiment/Trial\n",
        "\n",
        "Examples of Random Experiments, or Trials, include a dice rolling, choosing a card from a full pack of cards, tossing a coin, et cetera.\n",
        "\n",
        "2. Sample Space\n",
        "\n",
        "This is the total number of outcomes that are possible after a trial takes place. For example, the sample space of two coins tossed together is [HH, HT, TH, TT].\n",
        "\n",
        "Counting sample spaces can be done with the help of Permutations and Combinations formulae. If the order of the events matters, then we use Permutations: \n",
        "\n",
        "$$\\frac{n!}{(n-r)!}$$\n",
        "\n",
        "And if the order of the events do not matter, then we can count the sample space with the help of combinations: \n",
        "\n",
        "$$\\frac{n!}{(n-r)! r!}$$\n",
        "\n",
        "Where *n* is the number of different elements and *r* is the subset arrangement within *n*."
      ],
      "metadata": {
        "id": "_bCxR7eR2HI_"
      }
    },
    {
      "cell_type": "markdown",
      "source": [
        "3. Events \n",
        "\n",
        "A probability event can be defined as a set of outcomes of an experiment. In other words, an event in probability is the subset of the respective sample space.\n",
        "\n",
        "4. Types of Events\n",
        "\n",
        "  - Equally likely events\n",
        "  - Exhaustive events\n",
        "  \n",
        "  A set of events is called exhaustive if all the events together consume the entire sample space.\n",
        "  - Mutually exclusive events\n",
        "\n",
        "  If the occurrence of one event excludes the occurrence of another event, such events are mutually exclusive events i.e. two events don’t have any common point. \n",
        "  - Dependent or Independent events\n",
        "\n",
        "  If the occurrence of any event is completely unaffected by the occurrence of any other event, such events are known as an independent event in probability and the events which are affected by other events are known as dependent events.\n",
        "\n",
        "\n"
      ],
      "metadata": {
        "id": "7uHG9_V56b80"
      }
    },
    {
      "cell_type": "code",
      "execution_count": null,
      "metadata": {
        "id": "ap0XpsqlmPVF"
      },
      "outputs": [],
      "source": [
        ""
      ]
    }
  ],
  "metadata": {
    "kernelspec": {
      "display_name": "Python 3",
      "language": "python",
      "name": "python3"
    },
    "language_info": {
      "codemirror_mode": {
        "name": "ipython",
        "version": 3
      },
      "file_extension": ".py",
      "mimetype": "text/x-python",
      "name": "python",
      "nbconvert_exporter": "python",
      "pygments_lexer": "ipython3",
      "version": "3.8.6"
    },
    "colab": {
      "name": "Probability_Theory.ipynb",
      "provenance": []
    }
  },
  "nbformat": 4,
  "nbformat_minor": 0
}