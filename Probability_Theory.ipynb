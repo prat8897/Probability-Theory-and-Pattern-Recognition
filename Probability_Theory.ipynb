{
  "cells": [
    {
      "cell_type": "markdown",
      "source": [
        "# Fundamentals of Probability\n",
        "\n",
        "1. Random Experiment / Trial\n",
        "2. Sample Space\n",
        "3. Events\n",
        "4. Types of Events:\n",
        "  - Equally likely events\n",
        "  - Exhaustive events\n",
        "  - Mutually likely events\n",
        "  - Dependent or Independent events\n",
        "\n",
        "5. Definition of probability\n",
        "6. Axioms of probability\n",
        "7. Theorems of probability\n",
        "  - Complementary Rank\n",
        "  - Addition Law\n",
        "  - Multiplication Law (Conditional Probability)\n",
        "  - Bayes Theorem\n",
        "\n",
        "\n"
      ],
      "metadata": {
        "id": "neLKBy8mmXZo"
      }
    },
    {
      "cell_type": "markdown",
      "source": [
        ""
      ],
      "metadata": {
        "id": "_bCxR7eR2HI_"
      }
    },
    {
      "cell_type": "code",
      "execution_count": null,
      "metadata": {
        "id": "ap0XpsqlmPVF"
      },
      "outputs": [],
      "source": [
        ""
      ]
    }
  ],
  "metadata": {
    "kernelspec": {
      "display_name": "Python 3",
      "language": "python",
      "name": "python3"
    },
    "language_info": {
      "codemirror_mode": {
        "name": "ipython",
        "version": 3
      },
      "file_extension": ".py",
      "mimetype": "text/x-python",
      "name": "python",
      "nbconvert_exporter": "python",
      "pygments_lexer": "ipython3",
      "version": "3.8.6"
    },
    "colab": {
      "name": "Probability_Theory.ipynb",
      "provenance": []
    }
  },
  "nbformat": 4,
  "nbformat_minor": 0
}